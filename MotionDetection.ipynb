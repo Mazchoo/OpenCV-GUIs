{
 "cells": [
  {
   "cell_type": "code",
   "execution_count": 1,
   "id": "911fcd33",
   "metadata": {},
   "outputs": [],
   "source": [
    "import cv2\n",
    "import numpy as np\n",
    "import pdb\n",
    "\n",
    "from Managers import *"
   ]
  },
  {
   "cell_type": "markdown",
   "id": "6f029619",
   "metadata": {},
   "source": [
    "# Motion Detection"
   ]
  },
  {
   "cell_type": "code",
   "execution_count": 2,
   "id": "1f8367a6",
   "metadata": {},
   "outputs": [],
   "source": [
    "ellipse = cv2.getStructuringElement(cv2.MORPH_ELLIPSE, (9,4))\n",
    "kernel = np.ones((5, 5), dtype=np.uint8)\n",
    "prev_frame = [None]"
   ]
  },
  {
   "cell_type": "code",
   "execution_count": 11,
   "id": "b9da928f",
   "metadata": {},
   "outputs": [],
   "source": [
    "def trackMotionSimple(image, blur_size=21, min_size=1500, diff_thresh=25):\n",
    "    background = cv2.cvtColor(image, cv2.COLOR_BGR2GRAY)\n",
    "    background = cv2.GaussianBlur(background, (blur_size, blur_size), 0)\n",
    "    \n",
    "    if prev_frame[0] is None:\n",
    "        prev_frame[0] = background\n",
    "        return image\n",
    "    \n",
    "    diff = cv2.absdiff(prev_frame[0], background)\n",
    "    _, diff = cv2.threshold(diff, diff_thresh, 255, cv2.THRESH_BINARY)\n",
    "    diff = cv2.dilate(diff, ellipse, iterations=1)\n",
    "    \n",
    "    contours, hier = cv2.findContours(diff.copy(), cv2.RETR_EXTERNAL, cv2.CHAIN_APPROX_SIMPLE)\n",
    "    \n",
    "    for c in contours:\n",
    "        if cv2.contourArea(c) > min_size:\n",
    "            (x, y, w, h) = cv2.boundingRect(c)\n",
    "            cv2.rectangle(image, (x, y), (x + w, y + h), (0, 255, 0), 2)\n",
    "            \n",
    "    diff = cv2.cvtColor(diff, cv2.COLOR_GRAY2BGR)\n",
    "    prev_frame[0] = background\n",
    "    return np.hstack((image, diff))"
   ]
  },
  {
   "cell_type": "code",
   "execution_count": 12,
   "id": "e4cfb999",
   "metadata": {},
   "outputs": [],
   "source": [
    "cam = CameraManager('Track Motion', cv2.VideoCapture(0), trackMotionSimple).addCloseCallback()\n",
    "cam.run()"
   ]
  }
 ],
 "metadata": {
  "kernelspec": {
   "display_name": "Python 3",
   "language": "python",
   "name": "python3"
  },
  "language_info": {
   "codemirror_mode": {
    "name": "ipython",
    "version": 3
   },
   "file_extension": ".py",
   "mimetype": "text/x-python",
   "name": "python",
   "nbconvert_exporter": "python",
   "pygments_lexer": "ipython3",
   "version": "3.8.5"
  }
 },
 "nbformat": 4,
 "nbformat_minor": 5
}
