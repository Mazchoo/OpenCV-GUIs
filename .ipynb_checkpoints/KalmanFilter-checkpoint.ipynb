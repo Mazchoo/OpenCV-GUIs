{
 "cells": [
  {
   "cell_type": "code",
   "execution_count": 1,
   "id": "7a299073",
   "metadata": {},
   "outputs": [],
   "source": [
    "import cv2\n",
    "import numpy as np\n",
    "import pdb\n",
    "\n",
    "from Managers import *"
   ]
  },
  {
   "cell_type": "markdown",
   "id": "ff1696b0",
   "metadata": {},
   "source": [
    "# Kalman Filter Example"
   ]
  },
  {
   "cell_type": "markdown",
   "id": "f863e2d7",
   "metadata": {},
   "source": [
    "The number of dynamic paramters is the first number and the number of measurements measurements is the second parameter."
   ]
  },
  {
   "cell_type": "markdown",
   "id": "f28a9765",
   "metadata": {},
   "source": [
    "There is initial uncertainty over where the object can be. It is best to start at the top corner which seems to be the default initial state of everything."
   ]
  },
  {
   "cell_type": "code",
   "execution_count": 2,
   "id": "f43ffe14",
   "metadata": {},
   "outputs": [],
   "source": [
    "class KalmanFilterCallback:\n",
    "    def __init__(self):\n",
    "        self.kalman_filter = cv2.KalmanFilter(4, 2)\n",
    "        self.kalman_filter.measurementMatrix = np.array([[1, 0, 0, 0],\n",
    "                                                         [0, 1, 0, 0]], dtype=np.float32)\n",
    "        self.kalman_filter.transitionMatrix = np.array([[1, 0, 1, 0], \n",
    "                                                        [0, 1, 0, 1], \n",
    "                                                        [0, 0, 1, 0], \n",
    "                                                        [0, 0, 0, 1]], dtype=np.float32)\n",
    "        self.kalman_filter.processNoiseCov = np.array([[1, 0, 0, 0], \n",
    "                                                       [0, 1, 0, 0], \n",
    "                                                       [0, 0, 1, 0], \n",
    "                                                       [0, 0, 0, 1]], dtype=np.float32) * 0.03\n",
    "        # This set-up assumes constant x and y speed\n",
    "        \n",
    "        self.current_measurement = None\n",
    "        self.last_measurement = None\n",
    "        self.current_prediction = None\n",
    "        self.last_prediction = None\n",
    "\n",
    "\n",
    "    def kalmanUpdate(self, measurement):\n",
    "        self.last_measurement = self.current_measurement\n",
    "        self.current_measurement = measurement\n",
    "        self.last_prediction = self.current_prediction\n",
    "        \n",
    "        self.kalman_filter.correct(measurement)\n",
    "        self.current_prediction = self.kalman_filter.predict()\n",
    "    \n",
    "    \n",
    "    def drawOnImage(self, image):\n",
    "        if not self.last_measurement is None and not self.current_measurement is None:\n",
    "            lm_x, lm_y = self.last_measurement\n",
    "            cm_x, cm_y = self.current_measurement\n",
    "            cv2.line(image, (int(lm_x), int(lm_y)), (int(cm_x), int(cm_y)), (0, 100, 0), 5)\n",
    "\n",
    "        if not self.last_prediction is None and not self.current_prediction is None:\n",
    "            lp_x, lp_y = self.last_prediction[0].item(), self.last_prediction[1].item()\n",
    "            cp_x, cp_y = self.current_prediction[0].item(), self.current_prediction[1].item()\n",
    "            cv2.line(image, (int(lp_x), int(lp_y)), (int(cp_x), int(cp_y)), (0, 0, 200), 5)\n",
    "        \n",
    "        return image\n",
    "        \n",
    "        \n",
    "    def __call__(self, event, x, y, flags, param):\n",
    "        if event == cv2.EVENT_LBUTTONDOWN:\n",
    "            self.kalmanUpdate(np.array([x, y], dtype=np.float32))"
   ]
  },
  {
   "cell_type": "code",
   "execution_count": 3,
   "id": "ac4492a8",
   "metadata": {},
   "outputs": [],
   "source": [
    "class KalmanViewer:\n",
    "    def __init__(self, kalman_filter):\n",
    "        self.kalman_filter = kalman_filter\n",
    "\n",
    "    def __call__(self, image):\n",
    "        return self.kalman_filter.drawOnImage(image)"
   ]
  },
  {
   "cell_type": "markdown",
   "id": "3499d934",
   "metadata": {},
   "source": [
    "Using the Kalman Filter alongside visual tracking can give us information about what the object is doing and how fast it is moving."
   ]
  },
  {
   "cell_type": "code",
   "execution_count": 9,
   "id": "cd1ad40f",
   "metadata": {
    "scrolled": true
   },
   "outputs": [],
   "source": [
    "kalman_callback = KalmanFilterCallback()\n",
    "kalmanViewer = KalmanViewer(kalman_callback)\n",
    "\n",
    "cam = CameraManager('Kalman Filter', cv2.VideoCapture(0), kalmanViewer, mouseCallback=kalman_callback).addCloseCallback()\n",
    "cam.run()"
   ]
  }
 ],
 "metadata": {
  "kernelspec": {
   "display_name": "Python 3",
   "language": "python",
   "name": "python3"
  },
  "language_info": {
   "codemirror_mode": {
    "name": "ipython",
    "version": 3
   },
   "file_extension": ".py",
   "mimetype": "text/x-python",
   "name": "python",
   "nbconvert_exporter": "python",
   "pygments_lexer": "ipython3",
   "version": "3.8.5"
  }
 },
 "nbformat": 4,
 "nbformat_minor": 5
}
