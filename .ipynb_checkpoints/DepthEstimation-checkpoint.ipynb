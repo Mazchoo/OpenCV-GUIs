{
 "cells": [
  {
   "cell_type": "code",
   "execution_count": 1,
   "id": "6f9c1799",
   "metadata": {},
   "outputs": [],
   "source": [
    "import cv2\n",
    "import numpy as np\n",
    "import pdb\n",
    "\n",
    "from Managers import *"
   ]
  },
  {
   "cell_type": "markdown",
   "id": "01c46921",
   "metadata": {},
   "source": [
    "Instead of using a second camera, we can simply move the camera and create a dummy image capture from another position as a quick hack."
   ]
  },
  {
   "cell_type": "code",
   "execution_count": 3,
   "id": "34b9b3cc",
   "metadata": {},
   "outputs": [],
   "source": [
    "dummy_cap = DummyCapture()"
   ]
  },
  {
   "cell_type": "markdown",
   "id": "1418e571",
   "metadata": {},
   "source": [
    "# Show Result from Two Cameras"
   ]
  },
  {
   "cell_type": "code",
   "execution_count": 4,
   "id": "b0b5c336",
   "metadata": {},
   "outputs": [],
   "source": [
    "def combineTwoFrames(frames):\n",
    "    for frame in frames:\n",
    "        if frame is None:\n",
    "            return\n",
    "\n",
    "    return np.hstack(frames)"
   ]
  },
  {
   "cell_type": "code",
   "execution_count": 5,
   "id": "ef3e33d6",
   "metadata": {},
   "outputs": [],
   "source": [
    "cam = CameraManagerStereo('Show Two Cameras', \n",
    "                          [cv2.VideoCapture(0), dummy_cap], combineTwoFrames\n",
    ").addCloseCallback()\n",
    "cam.run()"
   ]
  },
  {
   "cell_type": "markdown",
   "id": "a7f8b802",
   "metadata": {},
   "source": [
    "# Show Stereo Vision disparity map"
   ]
  },
  {
   "cell_type": "code",
   "execution_count": 8,
   "id": "8b2aa71f",
   "metadata": {},
   "outputs": [],
   "source": [
    "def updateStereo(val=0):\n",
    "    stereo.setBlockSize(cv2.getTrackbarPos('windowSize', 'disparity'))\n",
    "    stereo.setSpeckleRange(cv2.getTrackbarPos('speckleRange', 'disparity'))\n",
    "    stereo.setUniquenessRatio(cv2.getTrackbarPos('uniquenessRatio', 'disparity'))\n",
    "    stereo.setSpeckleWindowSize(cv2.getTrackbarPos('speckleWindowSize', 'disparity'))\n",
    "    stereo.setDisp12MaxDiff(cv2.getTrackbarPos('disp12MaxDiff', 'disparity'))"
   ]
  },
  {
   "cell_type": "code",
   "execution_count": 9,
   "id": "adc199af",
   "metadata": {},
   "outputs": [],
   "source": [
    "def setupStereo(window_size=5, speckle_range=3, uniqueness_ratio=1, speckle_window_size=3, disp_max_diff=200,\n",
    "                P1=800, P2=2400, min_disp=16, num_disp=156):\n",
    "    cv2.namedWindow('disparity')\n",
    "\n",
    "    cv2.createTrackbar('windowSize', 'disparity', window_size, 50, updateStereo)\n",
    "    cv2.createTrackbar('speckleRange', 'disparity', speckle_range, 50, updateStereo)\n",
    "    cv2.createTrackbar('uniquenessRatio', 'disparity', uniqueness_ratio, 50, updateStereo)\n",
    "    cv2.createTrackbar('speckleWindowSize', 'disparity', speckle_window_size, 200, updateStereo)\n",
    "    cv2.createTrackbar('disp12MaxDiff', 'disparity', disp_max_diff, 250, updateStereo)\n",
    "    \n",
    "    stereo = cv2.StereoSGBM_create(\n",
    "        minDisparity=min_disp,\n",
    "        numDisparities=num_disp,\n",
    "        blockSize=window_size,\n",
    "        uniquenessRatio=uniqueness_ratio,\n",
    "        speckleRange=speckle_range,\n",
    "        speckleWindowSize=speckle_window_size,\n",
    "        disp12MaxDiff=disp_max_diff,\n",
    "    )\n",
    "    \n",
    "    return stereo"
   ]
  },
  {
   "cell_type": "markdown",
   "id": "1d35d619",
   "metadata": {},
   "source": [
    "When the display shows, we see that whiter objects are meant to be closer. Noise can produce white objects that 'appear' out of nowhere. Blurring might be able to remove this effect to a certain extent."
   ]
  },
  {
   "cell_type": "markdown",
   "id": "b4b4e41d",
   "metadata": {},
   "source": [
    "The camera also needs to be set-up with a chess board in order to get estimates that translate depth maps into distances of objects detected."
   ]
  },
  {
   "cell_type": "code",
   "execution_count": null,
   "id": "f74dbf9a",
   "metadata": {},
   "outputs": [],
   "source": [
    "stereo = setupStereo()"
   ]
  },
  {
   "cell_type": "code",
   "execution_count": 2,
   "id": "d0810c99",
   "metadata": {},
   "outputs": [],
   "source": [
    "def stereoDisparity(imgL, imgR, val=0, min_disp=16, num_disp=156):\n",
    "    disp = stereo.compute(imgL, imgR).astype(np.float32) / 16.\n",
    "\n",
    "    cv2.imshow('disparity', (disp-min_disp)/num_disp)"
   ]
  },
  {
   "cell_type": "code",
   "execution_count": 26,
   "id": "1da9570a",
   "metadata": {},
   "outputs": [],
   "source": [
    "def updateDisparityImage(frames):\n",
    "    imgL, imgR = frames\n",
    "    stereoDisparity(imgL, imgR)\n",
    "    return combineTwoFrames(frames)"
   ]
  },
  {
   "cell_type": "code",
   "execution_count": 27,
   "id": "cd93b08c",
   "metadata": {},
   "outputs": [
    {
     "name": "stdout",
     "output_type": "stream",
     "text": [
      "The function call for key 113 failed.\n"
     ]
    }
   ],
   "source": [
    "cam = CameraManagerStereo('Show Two Cameras', \n",
    "                          [cv2.VideoCapture(0), dummy_cap], updateDisparityImage\n",
    ").addCloseCallback()\n",
    "cam.run()"
   ]
  },
  {
   "cell_type": "code",
   "execution_count": 28,
   "id": "dd83cd7e",
   "metadata": {},
   "outputs": [],
   "source": [
    "cv2.destroyAllWindows()"
   ]
  }
 ],
 "metadata": {
  "kernelspec": {
   "display_name": "Python 3",
   "language": "python",
   "name": "python3"
  },
  "language_info": {
   "codemirror_mode": {
    "name": "ipython",
    "version": 3
   },
   "file_extension": ".py",
   "mimetype": "text/x-python",
   "name": "python",
   "nbconvert_exporter": "python",
   "pygments_lexer": "ipython3",
   "version": "3.8.5"
  }
 },
 "nbformat": 4,
 "nbformat_minor": 5
}
