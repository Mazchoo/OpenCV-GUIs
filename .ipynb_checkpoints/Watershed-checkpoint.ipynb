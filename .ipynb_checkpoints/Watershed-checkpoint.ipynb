{
 "cells": [
  {
   "cell_type": "code",
   "execution_count": 1,
   "id": "e844e55a",
   "metadata": {},
   "outputs": [],
   "source": [
    "import cv2\n",
    "import numpy as np\n",
    "import pdb\n",
    "\n",
    "from Managers import *"
   ]
  },
  {
   "cell_type": "markdown",
   "id": "29174380",
   "metadata": {},
   "source": [
    "# Watershed"
   ]
  },
  {
   "cell_type": "code",
   "execution_count": 45,
   "id": "bbbbe409",
   "metadata": {},
   "outputs": [],
   "source": [
    "def watershed(image:np.array, kernel_size=3, foreground_mult=.7):\n",
    "    gray = np.uint8(255 * (image[:, :, 1] / 255)**2) # enhance a channel where an object is dark\n",
    "    _, thresh = cv2.threshold(gray, 0, 255, cv2.THRESH_BINARY_INV + cv2.THRESH_OTSU)\n",
    "    \n",
    "    kernel = np.ones((kernel_size, kernel_size), dtype=np.uint8)\n",
    "    opening = cv2.morphologyEx(thresh, cv2.MORPH_OPEN, kernel, iterations=1)\n",
    "    definitely_bg = cv2.dilate(opening, kernel, iterations=1)\n",
    "    \n",
    "    dist_transform = cv2.distanceTransform(opening, cv2.DIST_L2, 5)\n",
    "    ret, foreground = cv2.threshold(dist_transform, foreground_mult*dist_transform.max(), 255, 0)\n",
    "    foreground = np.uint8(foreground)\n",
    "    \n",
    "    unknown = cv2.subtract(definitely_bg, foreground)\n",
    "\n",
    "    ret, markers = cv2.connectedComponents(foreground)\n",
    "    markers += 1\n",
    "    markers[unknown==255] = 0\n",
    "    markers = cv2.watershed(np.dstack((gray, gray, gray)), markers)\n",
    "    image[markers==-1] = (255, 0, 0)\n",
    "    return image"
   ]
  },
  {
   "cell_type": "code",
   "execution_count": 46,
   "id": "7f545c71",
   "metadata": {},
   "outputs": [],
   "source": [
    "cam = CameraManager('Find Watershed', cv2.VideoCapture(0), watershed).addCloseCallback()\n",
    "cam.run()"
   ]
  }
 ],
 "metadata": {
  "kernelspec": {
   "display_name": "Python 3",
   "language": "python",
   "name": "python3"
  },
  "language_info": {
   "codemirror_mode": {
    "name": "ipython",
    "version": 3
   },
   "file_extension": ".py",
   "mimetype": "text/x-python",
   "name": "python",
   "nbconvert_exporter": "python",
   "pygments_lexer": "ipython3",
   "version": "3.8.5"
  }
 },
 "nbformat": 4,
 "nbformat_minor": 5
}
