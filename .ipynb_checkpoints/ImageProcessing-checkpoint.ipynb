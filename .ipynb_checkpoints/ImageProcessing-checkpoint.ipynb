{
 "cells": [
  {
   "cell_type": "code",
   "execution_count": 1,
   "id": "c18fb30b",
   "metadata": {},
   "outputs": [],
   "source": [
    "import cv2\n",
    "import numpy as np\n",
    "import pdb\n",
    "\n",
    "from Managers import *"
   ]
  },
  {
   "cell_type": "code",
   "execution_count": 2,
   "id": "2a58cf2c",
   "metadata": {},
   "outputs": [],
   "source": [
    "stub_image = 255 * np.ones((100, 100, 3), dtype=np.uint8)"
   ]
  },
  {
   "cell_type": "markdown",
   "id": "018a6d30",
   "metadata": {},
   "source": [
    "# Stoke Edges"
   ]
  },
  {
   "cell_type": "markdown",
   "id": "164eba57",
   "metadata": {},
   "source": [
    "Here we use the Laplacian to make the edges darker and flatter median blurred surfaces retain their colour."
   ]
  },
  {
   "cell_type": "code",
   "execution_count": 25,
   "id": "295208ec",
   "metadata": {},
   "outputs": [],
   "source": [
    "def strokeEdges(src:np.array, blurSize=7, edgeSize=5):\n",
    "    dst = src.copy()\n",
    "    if blurSize > 2:\n",
    "        dst = cv2.medianBlur(dst, blurSize)\n",
    "    \n",
    "    dst = cv2.cvtColor(dst, cv2.COLOR_BGR2GRAY)\n",
    "    dst = cv2.Laplacian(dst, cv2.CV_8U, ksize=edgeSize)\n",
    "    inverseAlpha = (255 - dst) / 255.\n",
    "    \n",
    "    channels = cv2.split(src)\n",
    "    for channel in channels:\n",
    "        channel[:] = channel * inverseAlpha\n",
    "    return cv2.merge(channels)"
   ]
  },
  {
   "cell_type": "code",
   "execution_count": 26,
   "id": "de501f4a",
   "metadata": {},
   "outputs": [],
   "source": [
    "cam = CameraManager('Stroke Edges', cv2.VideoCapture(0), strokeEdges).addCloseCallback()\n",
    "cam.run()"
   ]
  },
  {
   "cell_type": "markdown",
   "id": "3d8f3eed",
   "metadata": {},
   "source": [
    "# Apply a Kernel"
   ]
  },
  {
   "cell_type": "code",
   "execution_count": 7,
   "id": "54752e71",
   "metadata": {},
   "outputs": [],
   "source": [
    "def applyKernel(image:np.array, kernel:np.array):\n",
    "    return cv2.filter2D(image, -1, kernel)"
   ]
  },
  {
   "cell_type": "code",
   "execution_count": 8,
   "id": "22b7221d",
   "metadata": {},
   "outputs": [],
   "source": [
    "sharp_kernel = np.array([\n",
    "    [-1, -1, -1],\n",
    "    [-1,  9, -1],\n",
    "    [-1, -1, -1],\n",
    "])\n",
    "\n",
    "def sharpen(image):\n",
    "    return applyKernel(image, sharp_kernel)"
   ]
  },
  {
   "cell_type": "code",
   "execution_count": 11,
   "id": "a9f74365",
   "metadata": {},
   "outputs": [],
   "source": [
    "cam = CameraManager('Sharpen', cv2.VideoCapture(0), sharpen).addCloseCallback()\n",
    "cam.run()"
   ]
  },
  {
   "cell_type": "code",
   "execution_count": 13,
   "id": "b9f0f8b1",
   "metadata": {},
   "outputs": [],
   "source": [
    "emboss_kernel = np.array([\n",
    "    [-2, -1,  0],\n",
    "    [-1,  0,  1],\n",
    "    [0,   1,  2],\n",
    "])\n",
    "\n",
    "\n",
    "def emboss(image):\n",
    "    return applyKernel(image, emboss_kernel)"
   ]
  },
  {
   "cell_type": "code",
   "execution_count": 14,
   "id": "479238b4",
   "metadata": {},
   "outputs": [],
   "source": [
    "cam = CameraManager('Emboss', cv2.VideoCapture(0), emboss).addCloseCallback()\n",
    "cam.run()"
   ]
  },
  {
   "cell_type": "markdown",
   "id": "c47ee91c",
   "metadata": {},
   "source": [
    "# Find Contours"
   ]
  },
  {
   "cell_type": "markdown",
   "id": "56a13171",
   "metadata": {},
   "source": [
    "The threshold operation can change the original image."
   ]
  },
  {
   "cell_type": "code",
   "execution_count": 33,
   "id": "c974afb8",
   "metadata": {},
   "outputs": [],
   "source": [
    "def thresholdImage(image, lower_thresh=127, upper_thresh=255):\n",
    "    _, thresh = cv2.threshold(image.copy(), lower_thresh, upper_thresh, 0)\n",
    "    return thresh"
   ]
  },
  {
   "cell_type": "code",
   "execution_count": 3,
   "id": "941c0598",
   "metadata": {},
   "outputs": [],
   "source": [
    "cam = CameraManager('Threshold', cv2.VideoCapture(0), thresholdImage).addCloseCallback()\n",
    "cam.run()"
   ]
  },
  {
   "cell_type": "code",
   "execution_count": 4,
   "id": "03a68ebf",
   "metadata": {},
   "outputs": [],
   "source": [
    "def saturation(image):\n",
    "    hsv = cv2.cvtColor(image, cv2.COLOR_BGR2HSV)\n",
    "    _, saturation, _ = cv2.split(hsv)\n",
    "    return saturation"
   ]
  },
  {
   "cell_type": "code",
   "execution_count": 5,
   "id": "89c1d983",
   "metadata": {},
   "outputs": [],
   "source": [
    "def blue(image):\n",
    "    blue, _, _ = cv2.split(image)\n",
    "    return blue"
   ]
  },
  {
   "cell_type": "code",
   "execution_count": 6,
   "id": "80583194",
   "metadata": {},
   "outputs": [],
   "source": [
    "cam = CameraManager('Saturation', cv2.VideoCapture(0), saturation).addCloseCallback()\n",
    "cam.run()"
   ]
  },
  {
   "cell_type": "code",
   "execution_count": 6,
   "id": "f4edc1a9",
   "metadata": {},
   "outputs": [],
   "source": [
    "def threshSaturation(image, lower_thresh=40, upper_thresh=120):\n",
    "    return thresholdImage(saturation(image), lower_thresh, upper_thresh)"
   ]
  },
  {
   "cell_type": "code",
   "execution_count": 8,
   "id": "a8464386",
   "metadata": {},
   "outputs": [],
   "source": [
    "cam = CameraManager('Blue', cv2.VideoCapture(0), threshSaturation).addCloseCallback()\n",
    "cam.run()"
   ]
  },
  {
   "cell_type": "code",
   "execution_count": 6,
   "id": "b50f7878",
   "metadata": {},
   "outputs": [],
   "source": [
    "def threshBlue(image, lower_thresh=160, upper_thresh=255):\n",
    "    return thresholdImage(blue(image), lower_thresh, upper_thresh)"
   ]
  },
  {
   "cell_type": "code",
   "execution_count": 38,
   "id": "3badd7cd",
   "metadata": {},
   "outputs": [],
   "source": [
    "cam = CameraManager('Saturation', cv2.VideoCapture(0), threshBlue).addCloseCallback()\n",
    "cam.run()"
   ]
  },
  {
   "cell_type": "code",
   "execution_count": 8,
   "id": "f8e1fbc1",
   "metadata": {},
   "outputs": [],
   "source": [
    "def findBlueContours(image):\n",
    "    thresh = threshBlue(image)\n",
    "    contours, hierachy = cv2.findContours(thresh, cv2.RETR_TREE, cv2.CHAIN_APPROX_SIMPLE)\n",
    "    return cv2.drawContours(image, contours, -1, (255, 0, 0), 2)"
   ]
  },
  {
   "cell_type": "code",
   "execution_count": 18,
   "id": "cf191918",
   "metadata": {},
   "outputs": [],
   "source": [
    "cam = CameraManager('Blue Contours', cv2.VideoCapture(0), findBlueContours).addCloseCallback()\n",
    "cam.run()"
   ]
  },
  {
   "cell_type": "markdown",
   "id": "a5b8966e",
   "metadata": {},
   "source": [
    "# Get Bouding Box Around the Biggest Blue Object"
   ]
  },
  {
   "cell_type": "code",
   "execution_count": 13,
   "id": "d5110425",
   "metadata": {},
   "outputs": [],
   "source": [
    "def findBiggestObjectinBox(image, min_size=1000):\n",
    "    thresh = threshBlue(image)\n",
    "    \n",
    "    contours, hier = cv2.findContours(thresh, cv2.RETR_EXTERNAL, cv2.CHAIN_APPROX_SIMPLE)\n",
    "    \n",
    "    for c in contours:\n",
    "        x, y, w, h = cv2.boundingRect(c)\n",
    "\n",
    "        if w * h > min_size:\n",
    "            cv2.rectangle(image, (x, y), (x + w, y + h), (0, 255, 0), 2)\n",
    "        \n",
    "    return image"
   ]
  },
  {
   "cell_type": "code",
   "execution_count": 14,
   "id": "25630c01",
   "metadata": {},
   "outputs": [],
   "source": [
    "cam = CameraManager('Find Blue Contours', cv2.VideoCapture(0), findBiggestObjectinBox).addCloseCallback()\n",
    "cam.run()"
   ]
  },
  {
   "cell_type": "markdown",
   "id": "01f28453",
   "metadata": {},
   "source": [
    "# Get Oriented Bounding Boxes"
   ]
  },
  {
   "cell_type": "code",
   "execution_count": 7,
   "id": "263f5602",
   "metadata": {},
   "outputs": [],
   "source": [
    "def calculateBoxArea(points):\n",
    "    h = np.linalg.norm(points[0] - points[1])\n",
    "    w = np.linalg.norm(points[1] - points[2])\n",
    "    return h * w"
   ]
  },
  {
   "cell_type": "code",
   "execution_count": 8,
   "id": "8c5152e7",
   "metadata": {},
   "outputs": [],
   "source": [
    "def findBiggestObjectinOrientedBox(image, min_size=1000):\n",
    "    thresh = threshBlue(image)\n",
    "    \n",
    "    contours, hier = cv2.findContours(thresh, cv2.RETR_EXTERNAL, cv2.CHAIN_APPROX_SIMPLE)\n",
    "    \n",
    "    for c in contours:\n",
    "        rect = cv2.minAreaRect(c)\n",
    "        box = cv2.boxPoints(rect)\n",
    "        box = np.int64(box)\n",
    "        \n",
    "        if calculateBoxArea(box) > min_size:\n",
    "            cv2.drawContours(image, [box], 0, (0, 0, 255), 3)\n",
    "        \n",
    "    return image"
   ]
  },
  {
   "cell_type": "code",
   "execution_count": 9,
   "id": "02b50782",
   "metadata": {},
   "outputs": [],
   "source": [
    "cam = CameraManager('Find Oriented Blue Contours', cv2.VideoCapture(0), findBiggestObjectinOrientedBox).addCloseCallback()\n",
    "cam.run()"
   ]
  },
  {
   "cell_type": "markdown",
   "id": "f06bbe14",
   "metadata": {},
   "source": [
    "# Get Enclosing Circles"
   ]
  },
  {
   "cell_type": "code",
   "execution_count": 10,
   "id": "967cbae6",
   "metadata": {},
   "outputs": [],
   "source": [
    "def findBiggestObjectinEnclosingCircle(image, min_size=1000):\n",
    "    thresh = threshBlue(image)\n",
    "    \n",
    "    contours, hier = cv2.findContours(thresh, cv2.RETR_EXTERNAL, cv2.CHAIN_APPROX_SIMPLE)\n",
    "    \n",
    "    for c in contours:\n",
    "        (x, y), radius = cv2.minEnclosingCircle(c)\n",
    "        \n",
    "        if np.pi * radius**2 > min_size:\n",
    "            center = (int(x), int(y))\n",
    "            radius = int(radius)\n",
    "            image = cv2.circle(image, center, radius, (255, 0, 0), 2)\n",
    "        \n",
    "    return image"
   ]
  },
  {
   "cell_type": "code",
   "execution_count": 11,
   "id": "f1db140c",
   "metadata": {},
   "outputs": [],
   "source": [
    "cam = CameraManager('Find Circle Blue Contours', cv2.VideoCapture(0), findBiggestObjectinEnclosingCircle).addCloseCallback()\n",
    "cam.run()"
   ]
  },
  {
   "cell_type": "markdown",
   "id": "af6352f9",
   "metadata": {},
   "source": [
    "# Get Convex Hull"
   ]
  },
  {
   "cell_type": "code",
   "execution_count": 12,
   "id": "af4b69d0",
   "metadata": {},
   "outputs": [],
   "source": [
    "def findBiggestObjectinConvexHull(image, min_size=1000):\n",
    "    thresh = threshBlue(image)\n",
    "    \n",
    "    contours, hier = cv2.findContours(thresh, cv2.RETR_EXTERNAL, cv2.CHAIN_APPROX_SIMPLE)\n",
    "    \n",
    "    for c in contours:\n",
    "        if cv2.contourArea(c) > min_size:\n",
    "            hull = cv2.convexHull(c)\n",
    "            cv2.drawContours(image, [hull], 0, (0, 0, 255), 3)\n",
    "        \n",
    "    return image"
   ]
  },
  {
   "cell_type": "code",
   "execution_count": 13,
   "id": "4af85938",
   "metadata": {},
   "outputs": [],
   "source": [
    "cam = CameraManager('Find Hull Blue Contours', cv2.VideoCapture(0), findBiggestObjectinConvexHull).addCloseCallback()\n",
    "cam.run()"
   ]
  },
  {
   "cell_type": "markdown",
   "id": "13f40f98",
   "metadata": {},
   "source": [
    "# Line Detection"
   ]
  },
  {
   "cell_type": "markdown",
   "id": "1dd585d8",
   "metadata": {},
   "source": [
    "Hough lines has a stride parameter to increase speed, an angle parameter and a threshold for the number of votes on the line in question."
   ]
  },
  {
   "cell_type": "code",
   "execution_count": 82,
   "id": "13bed5a8",
   "metadata": {},
   "outputs": [],
   "source": [
    "def findAllLines(image, min_length=100, max_gap=5):\n",
    "    gray  = cv2.cvtColor(image, cv2.COLOR_BGR2GRAY)\n",
    "    edges = cv2.Canny(gray, 120, 250)\n",
    "    \n",
    "    lines = cv2.HoughLinesP(edges, 1, np.pi/180, 50, min_length, max_gap)\n",
    "    for line in lines:\n",
    "        (x1, y1, x2, y2) = line[0]\n",
    "        cv2.line(image, (x1, y1), (x2, y2), (0, 255, 0), 2)\n",
    "    \n",
    "    return image"
   ]
  },
  {
   "cell_type": "code",
   "execution_count": 83,
   "id": "89630a66",
   "metadata": {},
   "outputs": [],
   "source": [
    "cam = CameraManager('Find Lines in Canny Edges', cv2.VideoCapture(0), findAllLines).addCloseCallback()\n",
    "cam.run()"
   ]
  },
  {
   "cell_type": "code",
   "execution_count": 76,
   "id": "6b1e5ac8",
   "metadata": {},
   "outputs": [],
   "source": [
    "def findLinesInStoke(image, min_length=500, max_gap=5):\n",
    "    edges = strokeEdges(image)\n",
    "    gray  = cv2.cvtColor(image, cv2.COLOR_BGR2GRAY)\n",
    "    canny = cv2.Canny(gray, 120, 250)\n",
    "    \n",
    "    lines = cv2.HoughLinesP(canny, 1, np.pi/180, 50, min_length, max_gap)\n",
    "    for line in lines:\n",
    "        (x1, y1, x2, y2) = line[0]\n",
    "        cv2.line(edges, (x1, y1), (x2, y2), (0, 255, 0), 2)\n",
    "    \n",
    "    return edges"
   ]
  },
  {
   "cell_type": "code",
   "execution_count": 77,
   "id": "12d26459",
   "metadata": {},
   "outputs": [],
   "source": [
    "cam = CameraManager('Find Lines in Canny Edges', cv2.VideoCapture(0), findLinesInStoke).addCloseCallback()\n",
    "cam.run()"
   ]
  },
  {
   "cell_type": "markdown",
   "id": "73f8886d",
   "metadata": {},
   "source": [
    "# Circle Detection"
   ]
  },
  {
   "cell_type": "markdown",
   "id": "eb6c565b",
   "metadata": {},
   "source": [
    "The param1 determines the canny edge threshold. The param2 determies the thresold for voting. This algorithm tries to find candidates for centers and then tries to determine the best radius for that center. "
   ]
  },
  {
   "cell_type": "code",
   "execution_count": 3,
   "id": "a861758f",
   "metadata": {},
   "outputs": [],
   "source": [
    "def findCircles(image):\n",
    "    gray = cv2.cvtColor(image, cv2.COLOR_BGR2GRAY)\n",
    "    smooth = cv2.medianBlur(gray, 5)\n",
    "    \n",
    "    circles = cv2.HoughCircles(smooth, cv2.HOUGH_GRADIENT, 1, 120, param1=140, param2=50, minRadius=50, maxRadius=1000)\n",
    "    if not circles is None:\n",
    "        circles = np.uint16(np.around(circles))\n",
    "\n",
    "        for circ in circles[0, :]:\n",
    "            x, y, r = circ\n",
    "            cv2.circle(image, (x, y), r, (0, 255, 0), 2)\n",
    "            cv2.circle(image, (x, y), 2, (0, 255, 0), 3)\n",
    "    \n",
    "    return image"
   ]
  },
  {
   "cell_type": "code",
   "execution_count": 4,
   "id": "168af41d",
   "metadata": {},
   "outputs": [],
   "source": [
    "cam = CameraManager('Find Lines in Canny Edges', cv2.VideoCapture(0), findCircles).addCloseCallback()\n",
    "cam.run()"
   ]
  }
 ],
 "metadata": {
  "kernelspec": {
   "display_name": "Python 3",
   "language": "python",
   "name": "python3"
  },
  "language_info": {
   "codemirror_mode": {
    "name": "ipython",
    "version": 3
   },
   "file_extension": ".py",
   "mimetype": "text/x-python",
   "name": "python",
   "nbconvert_exporter": "python",
   "pygments_lexer": "ipython3",
   "version": "3.8.5"
  }
 },
 "nbformat": 4,
 "nbformat_minor": 5
}
