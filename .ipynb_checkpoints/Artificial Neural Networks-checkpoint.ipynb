{
 "cells": [
  {
   "cell_type": "code",
   "execution_count": 1,
   "id": "b8633a6c",
   "metadata": {},
   "outputs": [],
   "source": [
    "import cv2\n",
    "import numpy as np"
   ]
  },
  {
   "cell_type": "markdown",
   "id": "170a9b9d",
   "metadata": {},
   "source": [
    "# Fully Connected Network"
   ]
  },
  {
   "cell_type": "markdown",
   "id": "81bb421f",
   "metadata": {},
   "source": [
    "A network that has nine input nodes, 5 output nodes and 9 output nodes."
   ]
  },
  {
   "cell_type": "code",
   "execution_count": 5,
   "id": "29741a12",
   "metadata": {},
   "outputs": [],
   "source": [
    "ann = cv2.ml.ANN_MLP_create()\n",
    "ann.setLayerSizes(np.array([9, 5, 9], dtype=np.uint8))\n",
    "ann.setTrainMethod(cv2.ml.ANN_MLP_BACKPROP)"
   ]
  },
  {
   "cell_type": "markdown",
   "id": "1cf9fb1d",
   "metadata": {},
   "source": [
    "Array is trained on that has category 5."
   ]
  },
  {
   "cell_type": "code",
   "execution_count": 8,
   "id": "4c4036e6",
   "metadata": {},
   "outputs": [
    {
     "data": {
      "text/plain": [
       "True"
      ]
     },
     "execution_count": 8,
     "metadata": {},
     "output_type": "execute_result"
    }
   ],
   "source": [
    "ann.train(np.array([[1.2, 1.3, 1.9, 2.2, 2.3, 2.9, 3.0, 3.2, 3.3]], dtype=np.float32),\n",
    "          cv2.ml.ROW_SAMPLE,\n",
    "          np.array([[0, 0, 0, 0, 0, 1, 0, 0, 0]], dtype=np.float32))"
   ]
  },
  {
   "cell_type": "markdown",
   "id": "90d36987",
   "metadata": {},
   "source": [
    "We predict another array that is also classified as a 5."
   ]
  },
  {
   "cell_type": "code",
   "execution_count": 9,
   "id": "cbf88e52",
   "metadata": {},
   "outputs": [
    {
     "data": {
      "text/plain": [
       "(5.0,\n",
       " array([[-0.06419383, -0.13360272, -0.1681568 , -0.18708915,  0.0970564 ,\n",
       "          0.89237726,  0.05093023,  0.17537238,  0.13388439]],\n",
       "       dtype=float32))"
      ]
     },
     "execution_count": 9,
     "metadata": {},
     "output_type": "execute_result"
    }
   ],
   "source": [
    "ann.predict(np.array([[1.4, 1.5, 1.2, 2., 2.5, 2.8, 3., 3.1, 3.8]], dtype=np.float32))"
   ]
  }
 ],
 "metadata": {
  "kernelspec": {
   "display_name": "Python 3",
   "language": "python",
   "name": "python3"
  },
  "language_info": {
   "codemirror_mode": {
    "name": "ipython",
    "version": 3
   },
   "file_extension": ".py",
   "mimetype": "text/x-python",
   "name": "python",
   "nbconvert_exporter": "python",
   "pygments_lexer": "ipython3",
   "version": "3.8.5"
  }
 },
 "nbformat": 4,
 "nbformat_minor": 5
}
