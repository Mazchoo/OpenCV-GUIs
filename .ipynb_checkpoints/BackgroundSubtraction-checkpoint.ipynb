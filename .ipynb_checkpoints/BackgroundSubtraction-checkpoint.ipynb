{
 "cells": [
  {
   "cell_type": "code",
   "execution_count": 1,
   "id": "28ae3471",
   "metadata": {},
   "outputs": [],
   "source": [
    "import cv2\n",
    "import numpy as np\n",
    "import pdb\n",
    "\n",
    "from Managers import *"
   ]
  },
  {
   "cell_type": "markdown",
   "id": "bd1542d6",
   "metadata": {},
   "source": [
    "# Mog background example"
   ]
  },
  {
   "cell_type": "code",
   "execution_count": 2,
   "id": "75b87d62",
   "metadata": {},
   "outputs": [],
   "source": [
    "mog = cv2.createBackgroundSubtractorMOG2()"
   ]
  },
  {
   "cell_type": "code",
   "execution_count": 3,
   "id": "edddac9c",
   "metadata": {},
   "outputs": [],
   "source": [
    "def createMogBackground(image):\n",
    "    return cv2.cvtColor(mog.apply(image), cv2.COLOR_GRAY2BGR)"
   ]
  },
  {
   "cell_type": "code",
   "execution_count": 4,
   "id": "18e490ea",
   "metadata": {},
   "outputs": [],
   "source": [
    "cam = CameraManager('Mog Background', cv2.VideoCapture(0), createMogBackground).addCloseCallback()\n",
    "cam.run()"
   ]
  },
  {
   "cell_type": "markdown",
   "id": "c03ce368",
   "metadata": {},
   "source": [
    "# KNN background detection with cleanup"
   ]
  },
  {
   "cell_type": "code",
   "execution_count": 5,
   "id": "79c50beb",
   "metadata": {},
   "outputs": [],
   "source": [
    "bs = cv2.createBackgroundSubtractorKNN(detectShadows=True)"
   ]
  },
  {
   "cell_type": "code",
   "execution_count": 6,
   "id": "bcff36ff",
   "metadata": {},
   "outputs": [],
   "source": [
    "def createKnnBackground(image, l_thresh=244, k_height=3, k_width=3, min_size=1600):\n",
    "    foreground = bs.apply(image)\n",
    "    _, thresh = cv2.threshold(foreground, l_thresh, 255, cv2.THRESH_BINARY)\n",
    "    \n",
    "    ellipse = cv2.getStructuringElement(cv2.MORPH_ELLIPSE, (k_height, k_width))\n",
    "    dilate = cv2.dilate(thresh, ellipse, iterations=2)\n",
    "\n",
    "    contours, hier = cv2.findContours(dilate, cv2.RETR_EXTERNAL, cv2.CHAIN_APPROX_SIMPLE)\n",
    "    \n",
    "    for c in contours:\n",
    "        if cv2.contourArea(c) > min_size:\n",
    "            (x, y, w, h) = cv2.boundingRect(c)\n",
    "            cv2.rectangle(image, (x, y), (x + w, y + h), (255, 255, 0), 2)\n",
    "    \n",
    "    return image"
   ]
  },
  {
   "cell_type": "code",
   "execution_count": 7,
   "id": "b8e1219e",
   "metadata": {},
   "outputs": [],
   "source": [
    "cam = CameraManager('Knn Background', cv2.VideoCapture(0), createKnnBackground).addCloseCallback()\n",
    "cam.run()"
   ]
  }
 ],
 "metadata": {
  "kernelspec": {
   "display_name": "Python 3",
   "language": "python",
   "name": "python3"
  },
  "language_info": {
   "codemirror_mode": {
    "name": "ipython",
    "version": 3
   },
   "file_extension": ".py",
   "mimetype": "text/x-python",
   "name": "python",
   "nbconvert_exporter": "python",
   "pygments_lexer": "ipython3",
   "version": "3.8.5"
  }
 },
 "nbformat": 4,
 "nbformat_minor": 5
}
