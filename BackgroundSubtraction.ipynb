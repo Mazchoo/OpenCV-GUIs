{
 "cells": [
  {
   "cell_type": "code",
   "execution_count": 1,
   "id": "28ae3471",
   "metadata": {},
   "outputs": [],
   "source": [
    "import cv2\n",
    "import numpy as np\n",
    "import pdb\n",
    "\n",
    "from Managers import *"
   ]
  },
  {
   "cell_type": "markdown",
   "id": "bd1542d6",
   "metadata": {},
   "source": [
    "# Mog background example"
   ]
  },
  {
   "cell_type": "code",
   "execution_count": 2,
   "id": "75b87d62",
   "metadata": {},
   "outputs": [],
   "source": [
    "mog = cv2.createBackgroundSubtractorMOG2()"
   ]
  },
  {
   "cell_type": "code",
   "execution_count": 3,
   "id": "edddac9c",
   "metadata": {},
   "outputs": [],
   "source": [
    "def createMogBackground(image):\n",
    "    return cv2.cvtColor(mog.apply(image), cv2.COLOR_GRAY2BGR)"
   ]
  },
  {
   "cell_type": "code",
   "execution_count": 4,
   "id": "18e490ea",
   "metadata": {},
   "outputs": [],
   "source": [
    "cam = CameraManager('Mog Background', cv2.VideoCapture(0), createMogBackground).addCloseCallback()\n",
    "cam.run()"
   ]
  },
  {
   "cell_type": "markdown",
   "id": "c03ce368",
   "metadata": {},
   "source": [
    "# KNN background detection with cleanup"
   ]
  },
  {
   "cell_type": "code",
   "execution_count": 5,
   "id": "79c50beb",
   "metadata": {},
   "outputs": [],
   "source": [
    "bs = cv2.createBackgroundSubtractorKNN(detectShadows=True)"
   ]
  },
  {
   "cell_type": "code",
   "execution_count": 6,
   "id": "bcff36ff",
   "metadata": {},
   "outputs": [],
   "source": [
    "def createKnnBackground(image, l_thresh=244, k_height=3, k_width=3, min_size=1600):\n",
    "    foreground = bs.apply(image)\n",
    "    _, thresh = cv2.threshold(foreground, l_thresh, 255, cv2.THRESH_BINARY)\n",
    "    \n",
    "    ellipse = cv2.getStructuringElement(cv2.MORPH_ELLIPSE, (k_height, k_width))\n",
    "    dilate = cv2.dilate(thresh, ellipse, iterations=2)\n",
    "\n",
    "    contours, hier = cv2.findContours(dilate, cv2.RETR_EXTERNAL, cv2.CHAIN_APPROX_SIMPLE)\n",
    "    \n",
    "    for c in contours:\n",
    "        if cv2.contourArea(c) > min_size:\n",
    "            (x, y, w, h) = cv2.boundingRect(c)\n",
    "            cv2.rectangle(image, (x, y), (x + w, y + h), (255, 255, 0), 2)\n",
    "    \n",
    "    return image"
   ]
  },
  {
   "cell_type": "code",
   "execution_count": 7,
   "id": "b8e1219e",
   "metadata": {},
   "outputs": [],
   "source": [
    "cam = CameraManager('Knn Background', cv2.VideoCapture(0), createKnnBackground).addCloseCallback()\n",
    "cam.run()"
   ]
  },
  {
   "cell_type": "markdown",
   "id": "043ec3b3",
   "metadata": {},
   "source": [
    "# Mean Shift"
   ]
  },
  {
   "cell_type": "markdown",
   "id": "4559d09c",
   "metadata": {},
   "source": [
    "Mean shift is like clustering but we find a kernel between pixels (one that includes colour properties in the colour distance as well). A group of pixels will move little between frames but the center of gravity will also move. We can't just track the object by taking every point and applying no discrimination, as it will pickup outlier pixels. \n",
    "\n",
    "We want to group together similiar pixels that are close and find a local peak. The peak indicates the cluster that the pixels belong to. The peak can change a bit over time as well, but we are modelling an object where pixels share some property and are reasonably close."
   ]
  },
  {
   "cell_type": "code",
   "execution_count": 2,
   "id": "14b9304c",
   "metadata": {},
   "outputs": [],
   "source": [
    "class MousePoints:\n",
    "    def __init__(self):\n",
    "        self.p1 = None\n",
    "        self.p2 = None\n",
    "\n",
    "        \n",
    "    def getRect(self):\n",
    "        if not self.p1 or not self.p2: return\n",
    "\n",
    "        x1, y1 = self.p1\n",
    "        x2, y2 = self.p2\n",
    "        x_min = min(x1, x2)\n",
    "        x_max = max(x1, x2)\n",
    "        y_min = min(y1, y2)\n",
    "        y_max = max(y1, y2)\n",
    "        return (x_min, y_min, x_max-x_min, y_max-y_min)\n",
    "    \n",
    "    \n",
    "    def __call__(self, event, x, y, flags, param):\n",
    "        if event == cv2.EVENT_LBUTTONDOWN:\n",
    "            if self.p1 is None:\n",
    "                self.p1 = (x, y)\n",
    "            elif self.p2 is None:\n",
    "                self.p2 = (x, y)"
   ]
  },
  {
   "cell_type": "code",
   "execution_count": 3,
   "id": "43bcce35",
   "metadata": {},
   "outputs": [],
   "source": [
    "class HistogramTracker:\n",
    "    def __init__(self, mousePoints):\n",
    "        self.mousePoints = mousePoints\n",
    "\n",
    "        self.hsv_roi = None\n",
    "        self.term_crit = None\n",
    "        self.roi_hist = None\n",
    "        self.track_window = None\n",
    "\n",
    "\n",
    "    def intializeHSVRoi(self, image):\n",
    "        x, y, w, h = self.track_window\n",
    "\n",
    "        self.hsv_roi = image[y : y + h, x : x + w]\n",
    "        self.hsv_roi = cv2.cvtColor(self.hsv_roi, cv2.COLOR_BGR2HSV)\n",
    "        masked_roi = cv2.inRange(self.hsv_roi, np.array([100., 30., 32.]), np.array([180., 120., 255.]))\n",
    "\n",
    "        self.roi_hist = cv2.calcHist([self.hsv_roi], [0], masked_roi, [180], [0,180])\n",
    "        self.roi_hist = cv2.normalize(self.roi_hist, 0, 255, cv2.NORM_MINMAX)\n",
    "        self.term_crit = (cv2.TERM_CRITERIA_EPS | cv2.TERM_CRITERIA_COUNT, 10, 1)\n",
    "\n",
    "        \n",
    "    \n",
    "    def trackHist(self, image):\n",
    "        hsv = cv2.cvtColor(image, cv2.COLOR_BGR2HSV)\n",
    "        back_proj = cv2.calcBackProject([hsv], [0], self.roi_hist, [0, 180], 1)\n",
    "    \n",
    "        _, self.track_window = cv2.meanShift(back_proj, self.track_window, self.term_crit)\n",
    "\n",
    "        x, y, w, h = self.track_window\n",
    "        cv2.rectangle(image, (x, y), (x + w, y + h), 255, 2)\n",
    "        return image\n",
    "\n",
    "\n",
    "    def __call__(self, image):\n",
    "        if not self.track_window is None:\n",
    "            image = self.trackHist(image)\n",
    "            \n",
    "            cv2.circle(image, self.mousePoints.p1, 2, (19, 134, 242), 5)\n",
    "            cv2.circle(image, self.mousePoints.p2, 2, (19, 134, 242), 5)\n",
    "\n",
    "        elif self.mousePoints.p2:\n",
    "            self.track_window = self.mousePoints.getRect()\n",
    "            self.intializeHSVRoi(image)\n",
    "\n",
    "        elif self.mousePoints.p1:\n",
    "            cv2.circle(image, self.mousePoints.p1, 2, (19, 134, 242), 5)\n",
    "\n",
    "        return image"
   ]
  },
  {
   "cell_type": "code",
   "execution_count": 4,
   "id": "e16f0b38",
   "metadata": {},
   "outputs": [],
   "source": [
    "mousePoints = MousePoints() # 'Singleton' kind of class\n",
    "histTracker = HistogramTracker(mousePoints)\n",
    "\n",
    "cam = CameraManager('Mean Shift', cv2.VideoCapture(0), histTracker, mouseCallback=mousePoints).addCloseCallback()\n",
    "cam.writeVideo('D:/Meanshift.avi')\n",
    "cam.run()"
   ]
  }
 ],
 "metadata": {
  "kernelspec": {
   "display_name": "Python 3",
   "language": "python",
   "name": "python3"
  },
  "language_info": {
   "codemirror_mode": {
    "name": "ipython",
    "version": 3
   },
   "file_extension": ".py",
   "mimetype": "text/x-python",
   "name": "python",
   "nbconvert_exporter": "python",
   "pygments_lexer": "ipython3",
   "version": "3.8.5"
  }
 },
 "nbformat": 4,
 "nbformat_minor": 5
}
