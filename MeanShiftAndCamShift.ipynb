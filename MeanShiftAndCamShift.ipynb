{
 "cells": [
  {
   "cell_type": "code",
   "execution_count": 4,
   "id": "3578c93d",
   "metadata": {},
   "outputs": [],
   "source": [
    "import cv2\n",
    "import numpy as np\n",
    "import pdb\n",
    "\n",
    "from Managers import *"
   ]
  },
  {
   "cell_type": "markdown",
   "id": "78c912fb",
   "metadata": {},
   "source": [
    "# Make a Rect helper function that stores points"
   ]
  },
  {
   "cell_type": "code",
   "execution_count": 5,
   "id": "1c3eb370",
   "metadata": {},
   "outputs": [],
   "source": [
    "class PointsRectCallback:\n",
    "    def __init__(self):\n",
    "        self.p1 = None\n",
    "        self.p2 = None\n",
    "\n",
    "        \n",
    "    def getRect(self):\n",
    "        if not self.p1 or not self.p2: return\n",
    "\n",
    "        x1, y1 = self.p1\n",
    "        x2, y2 = self.p2\n",
    "        x_min = min(x1, x2)\n",
    "        x_max = max(x1, x2)\n",
    "        y_min = min(y1, y2)\n",
    "        y_max = max(y1, y2)\n",
    "        return (x_min, y_min, x_max-x_min, y_max-y_min)\n",
    "    \n",
    "    \n",
    "    def __call__(self, event, x, y, flags, param):\n",
    "        if event == cv2.EVENT_LBUTTONDOWN:\n",
    "            if self.p1 is None:\n",
    "                self.p1 = (x, y)\n",
    "            elif self.p2 is None:\n",
    "                self.p2 = (x, y)"
   ]
  },
  {
   "cell_type": "markdown",
   "id": "6ba04935",
   "metadata": {},
   "source": [
    "# Mean Shift"
   ]
  },
  {
   "cell_type": "markdown",
   "id": "469f17e0",
   "metadata": {},
   "source": [
    "Mean shift is like clustering but we find a kernel between pixels (one that includes colour properties in the colour distance as well). A group of pixels will move little between frames but the center of gravity will also move. We can't just track the object by taking every point and applying no discrimination, as it will pickup outlier pixels. \n",
    "\n",
    "We want to group together similiar pixels that are close and find a local peak. The peak indicates the cluster that the pixels belong to. The peak can change a bit over time as well, but we are modelling an object where pixels share some property and are reasonably close."
   ]
  },
  {
   "cell_type": "markdown",
   "id": "a8c374cf",
   "metadata": {},
   "source": [
    "`masked_roi = cv2.inRange(self.hsv_roi, np.array([0., 0., 0.]), np.array([180., 255., 255.]))`\n",
    "\n",
    "Masked histograms are used so that we know to ignore a certain thing in the image that we wish to ignore.\n",
    "\n",
    "`self.roi_hist = cv2.calcHist([self.hsv_roi], [0], masked_roi, [180], [0,180])` <br>\n",
    "`self.roi_hist = cv2.normalize(self.roi_hist, 0, 255, cv2.NORM_MINMAX)`\n",
    "\n",
    "Open CV has a HSV range in 180 instead of 360 or 255 like some other libraries. In meanshift there is concept of distance that a cluster has moved. The histogram of the object needs to change by a relatively small amount between frames and the object must move a relatively small amount. The histogram is normalized between frames.\n",
    "\n",
    "`self.term_crit = (cv2.TERM_CRITERIA_EPS | cv2.TERM_CRITERIA_COUNT, 10, 1)`\n",
    "\n",
    "There is an iterative process between each frame to see how far the object as moved. The citertia is set out so that after a certain number of iterations the process stops and if the distance moved is 1 pixel or less.\n",
    "\n",
    "`back_proj = cv2.calcBackProject([hsv], [0], self.roi_hist, [0, 180], 1)`\n",
    "\n",
    "The back projection is a probability that a pixel belows to the current target histogram."
   ]
  },
  {
   "cell_type": "code",
   "execution_count": 33,
   "id": "d1cda848",
   "metadata": {},
   "outputs": [],
   "source": [
    "class HistogramTracker:\n",
    "    def __init__(self, mousePoints, masked_lower=np.array([0., 0., 0.]), masked_upper=np.array([180., 255., 255.]), \n",
    "                 method=cv2.meanShift):\n",
    "        self.mousePoints = mousePoints\n",
    "\n",
    "        self.hsv_roi = None\n",
    "        self.term_crit = None\n",
    "        self.roi_hist = None\n",
    "        self.track_window = None\n",
    "        \n",
    "        self.show_back_proj = False\n",
    "                 \n",
    "        self.masked_lower = masked_lower\n",
    "        self.masked_upper = masked_upper\n",
    "        self.method = method\n",
    "\n",
    "\n",
    "    def intializeHSVRoi(self, image):\n",
    "        x, y, w, h = self.track_window\n",
    "\n",
    "        self.hsv_roi = image[y : y + h, x : x + w]\n",
    "        self.hsv_roi = cv2.cvtColor(self.hsv_roi, cv2.COLOR_BGR2HSV)\n",
    "        masked_roi = cv2.inRange(self.hsv_roi, self.masked_lower, self.masked_upper)\n",
    "\n",
    "        self.roi_hist = cv2.calcHist([self.hsv_roi], [0], masked_roi, [180], [0,180])\n",
    "        self.roi_hist = cv2.normalize(self.roi_hist, 0, 255, cv2.NORM_MINMAX)\n",
    "        self.term_crit = (cv2.TERM_CRITERIA_EPS | cv2.TERM_CRITERIA_COUNT, 10, 1)\n",
    " \n",
    "\n",
    "    def trackHist(self, image):\n",
    "        hsv = cv2.cvtColor(image, cv2.COLOR_BGR2HSV)\n",
    "        back_proj = cv2.calcBackProject([hsv], [0], self.roi_hist, [0, 180], 1)\n",
    "    \n",
    "        _, self.track_window = self.method(back_proj, self.track_window, self.term_crit)\n",
    "        x, y, w, h = self.track_window\n",
    "\n",
    "        if self.show_back_proj:\n",
    "            image = back_proj\n",
    "        cv2.rectangle(image, (x, y), (x + w, y + h), 255, 2)\n",
    "\n",
    "        return image\n",
    "\n",
    "\n",
    "    def __call__(self, image):\n",
    "        if not self.track_window is None:\n",
    "            image = self.trackHist(image)\n",
    "            \n",
    "            cv2.circle(image, self.mousePoints.p1, 2, (19, 134, 242), 5)\n",
    "            cv2.circle(image, self.mousePoints.p2, 2, (19, 134, 242), 5)\n",
    "\n",
    "        elif self.mousePoints.p2:\n",
    "            self.track_window = self.mousePoints.getRect()\n",
    "            self.intializeHSVRoi(image)\n",
    "\n",
    "        elif self.mousePoints.p1:\n",
    "            cv2.circle(image, self.mousePoints.p1, 2, (19, 134, 242), 5)\n",
    "\n",
    "        return image"
   ]
  },
  {
   "cell_type": "markdown",
   "id": "ef41ca7c",
   "metadata": {},
   "source": [
    "This technique can still fail. The histogram window does not change size with the object. If there is a strong colour such the background that dominates the original window, then the object can be lost. This is why masking is useful but the masking can make two objects look similiar that in a similiar brown colour range."
   ]
  },
  {
   "cell_type": "code",
   "execution_count": 28,
   "id": "5302dab0",
   "metadata": {},
   "outputs": [],
   "source": [
    "mousePoints = PointsRectCallback()\n",
    "histTracker = HistogramTracker(mousePoints)\n",
    "\n",
    "cam = CameraManager('Mean Shift', cv2.VideoCapture(0), histTracker, mouseCallback=mousePoints).addCloseCallback()\n",
    "cam.writeVideo('D:/Meanshift.avi')\n",
    "cam.run()"
   ]
  },
  {
   "cell_type": "markdown",
   "id": "e6cce6a1",
   "metadata": {},
   "source": [
    "# CamShift"
   ]
  },
  {
   "cell_type": "markdown",
   "id": "957fde5b",
   "metadata": {},
   "source": [
    "This the object can change size very quickly, and there are some colours that are close but do not look that similiar. If end up tracking a large object like a person that has a distinctive histogram."
   ]
  },
  {
   "cell_type": "code",
   "execution_count": 36,
   "id": "e84d1111",
   "metadata": {},
   "outputs": [],
   "source": [
    "mousePoints = PointsRectCallback()\n",
    "histTracker = HistogramTracker(mousePoints, method=cv2.CamShift)\n",
    "\n",
    "cam = CameraManager('Cam Shift', cv2.VideoCapture(0), histTracker, mouseCallback=mousePoints).addCloseCallback()\n",
    "cam.writeVideo('D:/Camshift.avi')\n",
    "cam.run()"
   ]
  }
 ],
 "metadata": {
  "kernelspec": {
   "display_name": "Python 3",
   "language": "python",
   "name": "python3"
  },
  "language_info": {
   "codemirror_mode": {
    "name": "ipython",
    "version": 3
   },
   "file_extension": ".py",
   "mimetype": "text/x-python",
   "name": "python",
   "nbconvert_exporter": "python",
   "pygments_lexer": "ipython3",
   "version": "3.8.5"
  }
 },
 "nbformat": 4,
 "nbformat_minor": 5
}
